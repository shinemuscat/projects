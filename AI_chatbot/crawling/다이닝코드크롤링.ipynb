{
 "cells": [
  { 
   "cell_type": "code",
   "execution_count": null,
   "metadata": {},
   "outputs": [],
   "source": [
    "제육볶음 #ㅇ\n",
    "돈까스 #20개밖에안나옴\n",
    "돼지갈비찜 #ㅇ \n",
    "김치찌개 #ㅇ\n",
    "수육\n",
    "돼지불고기 #ㅇ\n",
    "탕수육 #24 이상 안넘어감\n",
    "등갈비찜 \n",
    "보쌈\n",
    "감자탕\n",
    "목살 스테이크\n",
    "동파육 \n",
    "족발\n",
    "떡갈비\n",
    "양갈비\n",
    "양꼬치\n",
    "오리백숙\n",
    "오리주물럭\n",
    "훈제오리 \n",
    "오리구이\n",
    "칼국수\n",
    "라멘\n",
    "라면\n",
    "파스타 \n",
    "마라샹궈\n",
    "마라탕\n",
    "우육면\n",
    "우동 #ㅇ\n",
    "비빔국수\n",
    "완탕면\n"
   ]
  },
  {
   "cell_type": "code",
   "execution_count": 1,
   "metadata": {},
   "outputs": [],
   "source": [
    "from selenium import webdriver\n",
    "from bs4 import BeautifulSoup\n",
    "import time\n",
    "import urllib\n",
    "import requests\n",
    "import re\n",
    "import pandas as pd\n",
    "from selenium.webdriver.common.action_chains import ActionChains"
   ]
  },
  {
   "cell_type": "code",
   "execution_count": 2,
   "metadata": {},
   "outputs": [],
   "source": [
    "driver=webdriver.Chrome('./chromedriver.exe')\n",
    "action=ActionChains(driver)"
   ]
  },
  {
   "cell_type": "code",
   "execution_count": 3,
   "metadata": {},
   "outputs": [],
   "source": [
    "driver.get('https://www.diningcode.com/list.php?query=%EC%9A%B0%EB%8F%99%20%EB%A7%9B%EC%A7%91')\n",
    "driver.maximize_window()\n",
    "#driver.implicitly_wait(3)\n",
    "#driver.find_element_by_css_selector('body > main > article > section > div > a').click()"
   ]
  },
  {
   "cell_type": "code",
   "execution_count": 4,
   "metadata": {},
   "outputs": [],
   "source": [
    "#더보기버튼 안나올때까지 클릭\n",
    "while True:\n",
    "    try:\n",
    "        더보기 = driver.find_element_by_xpath('//*[@id=\"div_list_more\"]')\n",
    "        더보기.click()\n",
    "        time.sleep(2)\n",
    "    except:\n",
    "        break"
   ]
  },
  {
   "cell_type": "code",
   "execution_count": 5,
   "metadata": {},
   "outputs": [],
   "source": [
    "from selenium.webdriver.common.by import By\n",
    "from selenium import webdriver\n"
   ]
  },
  {
   "cell_type": "code",
   "execution_count": 8,
   "metadata": {},
   "outputs": [
    {
     "name": "stdout",
     "output_type": "stream",
     "text": [
      "['https://www.diningcode.com//profile.php?rid=8ocsKTUtSIrx', 'https://www.diningcode.com//profile.php?rid=I1nGKDndnr7h', 'https://www.diningcode.com//profile.php?rid=KHo8Mlh5o9g3', 'https://www.diningcode.com//profile.php?rid=dZPUMvjg1NIf', 'https://www.diningcode.com//profile.php?rid=pZSQVPwSlaEh', 'https://www.diningcode.com//profile.php?rid=FnqoA13qRDU4', 'https://www.diningcode.com//profile.php?rid=HJw1hhT09P45', 'https://www.diningcode.com//profile.php?rid=Cu2ydzWNXjyB', 'https://www.diningcode.com//profile.php?rid=EfLhfp7v7wol', 'https://www.diningcode.com//profile.php?rid=kHHtqF5zGLCW', 'https://www.diningcode.com//profile.php?rid=AYObMlsRuzbV', 'https://www.diningcode.com//profile.php?rid=8db9tlEZe9WK', 'https://www.diningcode.com//profile.php?rid=XLPkc2JazuHz', 'https://www.diningcode.com//profile.php?rid=ZUktUgAvG0np', 'https://www.diningcode.com//profile.php?rid=hw8cI5igznl3', 'https://www.diningcode.com//profile.php?rid=HnAxjOjgmUZw', 'https://www.diningcode.com//profile.php?rid=G5yEDAcD0zqP', 'https://www.diningcode.com//profile.php?rid=T1QjDtFt6BNG', 'https://www.diningcode.com//profile.php?rid=ba3x1zDdQ44R', 'https://www.diningcode.com//profile.php?rid=YvSlBWFMHujx', 'https://www.diningcode.com//profile.php?rid=UMoieMi854zN', 'https://www.diningcode.com//profile.php?rid=Jw0TSPMCfHtv', 'https://www.diningcode.com//profile.php?rid=TkdYxNHnMeMC', 'https://www.diningcode.com//profile.php?rid=pWiebUQT9qeG', 'https://www.diningcode.com//profile.php?rid=82BhHXFYlh8v', 'https://www.diningcode.com//profile.php?rid=MSCCtLO78orV', 'https://www.diningcode.com//profile.php?rid=5yGHAMGfkIZm', 'https://www.diningcode.com//profile.php?rid=E0nnf9VOS1JX', 'https://www.diningcode.com//profile.php?rid=xL6rOmT1L9RD', 'https://www.diningcode.com//profile.php?rid=sF3xry4uNRlM', 'https://www.diningcode.com//profile.php?rid=1VFL8j97JyDL', 'https://www.diningcode.com//profile.php?rid=ls2oibQWrdjD', 'https://www.diningcode.com//profile.php?rid=VxOLdcAwG7Ai', 'https://www.diningcode.com//profile.php?rid=84YeyiXr64QX', 'https://www.diningcode.com//profile.php?rid=bvamuae5Ksaq', 'https://www.diningcode.com//profile.php?rid=TQKRMUIf8yGP', 'https://www.diningcode.com//profile.php?rid=Z3loZT2YOuGQ', 'https://www.diningcode.com//profile.php?rid=c9RlDE7IXmLT', 'https://www.diningcode.com//profile.php?rid=rjTzK6H8mgQg', 'https://www.diningcode.com//profile.php?rid=stfXvg3Zogus', 'https://www.diningcode.com//profile.php?rid=ax20YUS0SzpM', 'https://www.diningcode.com//profile.php?rid=ZWq5PDNUi3JY', 'https://www.diningcode.com//profile.php?rid=lm2oXzQ1ytdo', 'https://www.diningcode.com//profile.php?rid=ZpdQ9PSrACNx', 'https://www.diningcode.com//profile.php?rid=awiAxTMd6x6t', 'https://www.diningcode.com//profile.php?rid=LsmhrOnBcDmr', 'https://www.diningcode.com//profile.php?rid=PMwsL5rLEm6I', 'https://www.diningcode.com//profile.php?rid=N5evlSraeD3P', 'https://www.diningcode.com//profile.php?rid=JKRc3SyQnTCd', 'https://www.diningcode.com//profile.php?rid=cUPO0dzg5MzW', 'https://www.diningcode.com//profile.php?rid=wlc7XlybDD6Z', 'https://www.diningcode.com//profile.php?rid=mkoBR0I1dWYR', 'https://www.diningcode.com//profile.php?rid=VVWE85ndkpmP', 'https://www.diningcode.com//profile.php?rid=bQRlEFdPb1u8', 'https://www.diningcode.com//profile.php?rid=2XrB8RcEbPs8', 'https://www.diningcode.com//profile.php?rid=qDvoEG5FJXxs', 'https://www.diningcode.com//profile.php?rid=GYQtOHzf5a1W', 'https://www.diningcode.com//profile.php?rid=yOYRz29LWK8F', 'https://www.diningcode.com//profile.php?rid=VWNQhIK58jFk', 'https://www.diningcode.com//profile.php?rid=gBmjWieoizTh', 'https://www.diningcode.com//profile.php?rid=dqMVL0Ni3qPX', 'https://www.diningcode.com//profile.php?rid=LfKoQ4JD2O4B', 'https://www.diningcode.com//profile.php?rid=5U9GlP0IVJp4', 'https://www.diningcode.com//profile.php?rid=ZwH164QH7RlT', 'https://www.diningcode.com//profile.php?rid=SeikHnIzVK6E', 'https://www.diningcode.com//profile.php?rid=nOKxKWPUT4AL', 'https://www.diningcode.com//profile.php?rid=un4kCibzlp4C', 'https://www.diningcode.com//profile.php?rid=tiMzxAcDrHuL', 'https://www.diningcode.com//profile.php?rid=9vOtuNNxNo66', 'https://www.diningcode.com//profile.php?rid=80aKaLfANlTm', 'https://www.diningcode.com//profile.php?rid=vNWxoEjR96Nt', 'https://www.diningcode.com//profile.php?rid=ntwZxlCWXcV1', 'https://www.diningcode.com//profile.php?rid=A0Lyun0ktOGC', 'https://www.diningcode.com//profile.php?rid=fACPeLst7juv', 'https://www.diningcode.com//profile.php?rid=3m4tGZAQlzdz', 'https://www.diningcode.com//profile.php?rid=ARSLH5fZ1KSs', 'https://www.diningcode.com//profile.php?rid=yaIsAmoZAPR5', 'https://www.diningcode.com//profile.php?rid=wuye5e7iOwLd', 'https://www.diningcode.com//profile.php?rid=7S7kZ0jcMXA2', 'https://www.diningcode.com//profile.php?rid=sDs58eeLSdCY', 'https://www.diningcode.com//profile.php?rid=DRHS5ozg6rBA', 'https://www.diningcode.com//profile.php?rid=b8G9RZJHG8eb', 'https://www.diningcode.com//profile.php?rid=nMnLzO85nVZF', 'https://www.diningcode.com//profile.php?rid=26oCjtj1lN4c', 'https://www.diningcode.com//profile.php?rid=MSAU3pJ05LPt', 'https://www.diningcode.com//profile.php?rid=UJVyMieqd8HK', 'https://www.diningcode.com//profile.php?rid=ZMerfj4pwA5V', 'https://www.diningcode.com//profile.php?rid=DLqHjspFBmnG', 'https://www.diningcode.com//profile.php?rid=AokcBZetGSHz', 'https://www.diningcode.com//profile.php?rid=3POviFXUGWT4', 'https://www.diningcode.com//profile.php?rid=nYGdMfBKbXE0', 'https://www.diningcode.com//profile.php?rid=R8pxEqr1yumN', 'https://www.diningcode.com//profile.php?rid=AY3zbxUJXVuu', 'https://www.diningcode.com//profile.php?rid=3jvyMm1GkumE', 'https://www.diningcode.com//profile.php?rid=NJ8raUSO2nHp', 'https://www.diningcode.com//profile.php?rid=XTmQ7oIbzLle', 'https://www.diningcode.com//profile.php?rid=QEVxyuzLAXnh', 'https://www.diningcode.com//profile.php?rid=gUJwef75FgTo', 'https://www.diningcode.com//profile.php?rid=jU18KDcdHywF', 'https://www.diningcode.com//profile.php?rid=DNXiIJrU1Irf']\n"
     ]
    },
    {
     "data": {
      "text/plain": [
       "100"
      ]
     },
     "execution_count": 8,
     "metadata": {},
     "output_type": "execute_result"
    }
   ],
   "source": [
    "\n",
    "\n",
    "rlink = []\n",
    "while True:\n",
    "    try:\n",
    "        m = driver.find_element_by_css_selector('#div_list_more')\n",
    "        m.click()\n",
    "        time.sleep(1)\n",
    "    except:\n",
    "        break\n",
    "\n",
    "#태그별로 url뽑아오기\n",
    "html_doc = driver.page_source\n",
    "soup = BeautifulSoup(html_doc, 'html.parser')\n",
    "for link in soup.find_all('a'):\n",
    "    if 'profile' in link.get('href'):\n",
    "        rlink.append('https://www.diningcode.com/' + link.get('href'))\n",
    "    \n",
    "links = rlink\n",
    "print(links)\n",
    "len(links)"
   ]
  },
  {
   "cell_type": "code",
   "execution_count": 9,
   "metadata": {},
   "outputs": [],
   "source": [
    "import numpy as np\n",
    "np.savetxt('123.txt', links,fmt='%s')"
   ]
  },
  {
   "cell_type": "code",
   "execution_count": 11,
   "metadata": {},
   "outputs": [],
   "source": [
    "from bs4 import BeautifulSoup\n",
    "import requests\n",
    "import pandas as pd\n",
    "from selenium import webdriver\n",
    "from selenium.webdriver.common.keys import Keys\n",
    "from selenium.webdriver.common.action_chains import ActionChains\n",
    "import time\n",
    "import os\n",
    "import numpy as np"
   ]
  },
  {
   "cell_type": "code",
   "execution_count": 12,
   "metadata": {},
   "outputs": [],
   "source": [
    "\n",
    "f = open('123.txt', 'r')\n",
    "df = f"
   ]
  },
  {
   "cell_type": "code",
   "execution_count": 13,
   "metadata": {},
   "outputs": [],
   "source": [
    "result=pd.DataFrame({\n",
    "    '맛집url':df\n",
    "})"
   ]
  },
  {
   "cell_type": "code",
   "execution_count": 14,
   "metadata": {},
   "outputs": [
    {
     "data": {
      "text/html": [
       "<div>\n",
       "<style scoped>\n",
       "    .dataframe tbody tr th:only-of-type {\n",
       "        vertical-align: middle;\n",
       "    }\n",
       "\n",
       "    .dataframe tbody tr th {\n",
       "        vertical-align: top;\n",
       "    }\n",
       "\n",
       "    .dataframe thead th {\n",
       "        text-align: right;\n",
       "    }\n",
       "</style>\n",
       "<table border=\"1\" class=\"dataframe\">\n",
       "  <thead>\n",
       "    <tr style=\"text-align: right;\">\n",
       "      <th></th>\n",
       "      <th>맛집url</th>\n",
       "    </tr>\n",
       "  </thead>\n",
       "  <tbody>\n",
       "    <tr>\n",
       "      <th>0</th>\n",
       "      <td>https://www.diningcode.com//profile.php?rid=8o...</td>\n",
       "    </tr>\n",
       "    <tr>\n",
       "      <th>1</th>\n",
       "      <td>https://www.diningcode.com//profile.php?rid=I1...</td>\n",
       "    </tr>\n",
       "    <tr>\n",
       "      <th>2</th>\n",
       "      <td>https://www.diningcode.com//profile.php?rid=KH...</td>\n",
       "    </tr>\n",
       "    <tr>\n",
       "      <th>3</th>\n",
       "      <td>https://www.diningcode.com//profile.php?rid=dZ...</td>\n",
       "    </tr>\n",
       "    <tr>\n",
       "      <th>4</th>\n",
       "      <td>https://www.diningcode.com//profile.php?rid=pZ...</td>\n",
       "    </tr>\n",
       "    <tr>\n",
       "      <th>...</th>\n",
       "      <td>...</td>\n",
       "    </tr>\n",
       "    <tr>\n",
       "      <th>95</th>\n",
       "      <td>https://www.diningcode.com//profile.php?rid=XT...</td>\n",
       "    </tr>\n",
       "    <tr>\n",
       "      <th>96</th>\n",
       "      <td>https://www.diningcode.com//profile.php?rid=QE...</td>\n",
       "    </tr>\n",
       "    <tr>\n",
       "      <th>97</th>\n",
       "      <td>https://www.diningcode.com//profile.php?rid=gU...</td>\n",
       "    </tr>\n",
       "    <tr>\n",
       "      <th>98</th>\n",
       "      <td>https://www.diningcode.com//profile.php?rid=jU...</td>\n",
       "    </tr>\n",
       "    <tr>\n",
       "      <th>99</th>\n",
       "      <td>https://www.diningcode.com//profile.php?rid=DN...</td>\n",
       "    </tr>\n",
       "  </tbody>\n",
       "</table>\n",
       "<p>100 rows × 1 columns</p>\n",
       "</div>"
      ],
      "text/plain": [
       "                                                맛집url\n",
       "0   https://www.diningcode.com//profile.php?rid=8o...\n",
       "1   https://www.diningcode.com//profile.php?rid=I1...\n",
       "2   https://www.diningcode.com//profile.php?rid=KH...\n",
       "3   https://www.diningcode.com//profile.php?rid=dZ...\n",
       "4   https://www.diningcode.com//profile.php?rid=pZ...\n",
       "..                                                ...\n",
       "95  https://www.diningcode.com//profile.php?rid=XT...\n",
       "96  https://www.diningcode.com//profile.php?rid=QE...\n",
       "97  https://www.diningcode.com//profile.php?rid=gU...\n",
       "98  https://www.diningcode.com//profile.php?rid=jU...\n",
       "99  https://www.diningcode.com//profile.php?rid=DN...\n",
       "\n",
       "[100 rows x 1 columns]"
      ]
     },
     "execution_count": 14,
     "metadata": {},
     "output_type": "execute_result"
    }
   ],
   "source": [
    "result"
   ]
  },
  {
   "cell_type": "code",
   "execution_count": 15,
   "metadata": {},
   "outputs": [
    {
     "data": {
      "text/plain": [
       "100"
      ]
     },
     "execution_count": 15,
     "metadata": {},
     "output_type": "execute_result"
    }
   ],
   "source": [
    "result_list = result['맛집url'].to_list()\n",
    "len(result_list)"
   ]
  },
  {
   "cell_type": "code",
   "execution_count": 16,
   "metadata": {},
   "outputs": [
    {
     "data": {
      "text/plain": [
       "100"
      ]
     },
     "execution_count": 16,
     "metadata": {},
     "output_type": "execute_result"
    }
   ],
   "source": [
    "result=np.array(result['맛집url'].tolist())\n",
    "len(result)"
   ]
  },
  {
   "cell_type": "code",
   "execution_count": 17,
   "metadata": {},
   "outputs": [
    {
     "data": {
      "text/html": [
       "<div>\n",
       "<style scoped>\n",
       "    .dataframe tbody tr th:only-of-type {\n",
       "        vertical-align: middle;\n",
       "    }\n",
       "\n",
       "    .dataframe tbody tr th {\n",
       "        vertical-align: top;\n",
       "    }\n",
       "\n",
       "    .dataframe thead th {\n",
       "        text-align: right;\n",
       "    }\n",
       "</style>\n",
       "<table border=\"1\" class=\"dataframe\">\n",
       "  <thead>\n",
       "    <tr style=\"text-align: right;\">\n",
       "      <th></th>\n",
       "      <th>맛집</th>\n",
       "      <th>평점</th>\n",
       "      <th>주소</th>\n",
       "      <th>번호</th>\n",
       "      <th>영업시간</th>\n",
       "      <th>메뉴정보</th>\n",
       "      <th>리뷰</th>\n",
       "    </tr>\n",
       "  </thead>\n",
       "  <tbody>\n",
       "  </tbody>\n",
       "</table>\n",
       "</div>"
      ],
      "text/plain": [
       "Empty DataFrame\n",
       "Columns: [맛집, 평점, 주소, 번호, 영업시간, 메뉴정보, 리뷰]\n",
       "Index: []"
      ]
     },
     "execution_count": 17,
     "metadata": {},
     "output_type": "execute_result"
    }
   ],
   "source": [
    "test = pd.DataFrame(columns=['맛집', '평점','주소','번호','영업시간','메뉴정보','리뷰'])\n",
    "test"
   ]
  },
  {
   "cell_type": "code",
   "execution_count": 18,
   "metadata": {},
   "outputs": [],
   "source": [
    "driver=webdriver.Chrome('./chromedriver.exe')\n",
    "action=ActionChains(driver)"
   ]
  },
  {
   "cell_type": "code",
   "execution_count": 19,
   "metadata": {},
   "outputs": [],
   "source": [
    "for final in range(len(result_list)):\n",
    "    driver=webdriver.Chrome('./chromedriver.exe')\n",
    "    driver.get(result_list[final])\n",
    "    #html_doc = driver.page_source\n",
    "    #soup = BeautifulSoup(html_doc, 'html.parser')\n",
    "    #맛집 이름\n",
    "    title = driver.find_element_by_xpath('//*[@id=\"div_profile\"]/div[1]/div[2]/p').text\n",
    "    #맛집 평점\n",
    "    count = driver.find_element_by_xpath('//*[@id=\"lbl_review_point\"]').text.replace('\\n', '')\n",
    "    # info = soup.find(\"tbody\").get_text().replace('\\n', '')\n",
    "    # print(info)\n",
    "    # 맛집 주소\n",
    "    address = driver.find_element_by_xpath('//*[@id=\"div_profile\"]/div[2]/ul/li[1]').text\n",
    "    # 전화 번호\n",
    "    number = driver.find_element_by_xpath('//*[@id=\"div_profile\"]/div[2]/ul/li[2]').text\n",
    "    # 영업 시간\n",
    "    time = driver.find_element_by_xpath('//*[@id=\"div_detail\"]/div[1]').text.replace('\\n', '')\n",
    "    # 메뉴 정보\n",
    "    info = driver.find_element_by_xpath('//*[@id=\"div_detail\"]/div[2]').text\n",
    "    menu = info.replace('메뉴정보','').replace('더보기', '').replace('\\n', '')\n",
    "    # 리뷰 \n",
    "    review = driver.find_element_by_xpath('//*[@id=\"div_profile\"]/div[8]').text.replace('\\n', '')\n",
    "    test.loc[final] = [title,count,address,number,time,menu,review]\n",
    "    \n",
    "    driver.close()\n"
   ]
  },
  {
   "cell_type": "code",
   "execution_count": 20,
   "metadata": {},
   "outputs": [
    {
     "data": {
      "text/html": [
       "<div>\n",
       "<style scoped>\n",
       "    .dataframe tbody tr th:only-of-type {\n",
       "        vertical-align: middle;\n",
       "    }\n",
       "\n",
       "    .dataframe tbody tr th {\n",
       "        vertical-align: top;\n",
       "    }\n",
       "\n",
       "    .dataframe thead th {\n",
       "        text-align: right;\n",
       "    }\n",
       "</style>\n",
       "<table border=\"1\" class=\"dataframe\">\n",
       "  <thead>\n",
       "    <tr style=\"text-align: right;\">\n",
       "      <th></th>\n",
       "      <th>맛집</th>\n",
       "      <th>평점</th>\n",
       "      <th>주소</th>\n",
       "      <th>번호</th>\n",
       "      <th>영업시간</th>\n",
       "      <th>메뉴정보</th>\n",
       "      <th>리뷰</th>\n",
       "    </tr>\n",
       "  </thead>\n",
       "  <tbody>\n",
       "    <tr>\n",
       "      <th>0</th>\n",
       "      <td>우동 카덴</td>\n",
       "      <td>4.0점</td>\n",
       "      <td>서울특별시 마포구 서교동 391-5</td>\n",
       "      <td>02-6463-6362</td>\n",
       "      <td>영업시간월-금오전 11시 30분 - 오후 2시 30분 (점심 마지막주문 14:40)...</td>\n",
       "      <td>우동6,000원덴뿌라우동9,000원붓가케우동8,500원</td>\n",
       "      <td>44건의 방문자 평가4.0점맛4.5 가격3.9 서비스4.0방문목적점심식사(33) 저...</td>\n",
       "    </tr>\n",
       "    <tr>\n",
       "      <th>1</th>\n",
       "      <td>수우동</td>\n",
       "      <td>3.9점</td>\n",
       "      <td>제주특별자치도 제주시 한림읍 협재리 1706-1</td>\n",
       "      <td>064-796-5830</td>\n",
       "      <td>영업시간월,수,목,금,토/일오전 11시 - 오후 7시월요일오전 11시 - 오후 4시더보기</td>\n",
       "      <td>수우동8,000원유부우동9,000원자작냉우동11,000원</td>\n",
       "      <td>38건의 방문자 평가3.9점맛4.3 가격2.8 서비스3.6방문목적점심식사(27) 데...</td>\n",
       "    </tr>\n",
       "    <tr>\n",
       "      <th>2</th>\n",
       "      <td>우동가조쿠</td>\n",
       "      <td>4.1점</td>\n",
       "      <td>서울특별시 성동구 행당동 32-22</td>\n",
       "      <td>02-762-2177</td>\n",
       "      <td>영업시간매일오전 11시 - 오후 8시 ((면 소진 시 , 명절휴무))매일오후 3시 ...</td>\n",
       "      <td>붓가케우동5,500원가마타마6,000원가조쿠우동7,000원</td>\n",
       "      <td>37건의 방문자 평가4.1점맛4.4 가격4.7 서비스4.3방문목적점심식사(27) 혼...</td>\n",
       "    </tr>\n",
       "    <tr>\n",
       "      <th>3</th>\n",
       "      <td>이나니와 요스케 시청점</td>\n",
       "      <td>3.9점</td>\n",
       "      <td>서울특별시 중구 을지로1가 192-11 재능빌딩 1층</td>\n",
       "      <td>02-772-9994</td>\n",
       "      <td>영업시간월-금오전 11시 - 오후 2시 (Last order 13:40)월-금오후 ...</td>\n",
       "      <td>연어 샐러드8,000원카라아게8,000원에비크림 고로케15,000원</td>\n",
       "      <td>24건의 방문자 평가3.9점맛4.1 가격3.3 서비스4.5방문목적점심식사(14) 저...</td>\n",
       "    </tr>\n",
       "    <tr>\n",
       "      <th>4</th>\n",
       "      <td>만선호프</td>\n",
       "      <td>3.7점</td>\n",
       "      <td>서울특별시 중구 을지로3가 95-1</td>\n",
       "      <td>02-2274-1040</td>\n",
       "      <td>영업시간매일정오 12시 - 자정 12시 (연중무휴)</td>\n",
       "      <td>생맥주3,500원골뱅이 무침25,000원노가리1,000원</td>\n",
       "      <td>40건의 방문자 평가3.7점맛3.7 가격3.7 서비스3.3방문목적술모임(35) 저녁...</td>\n",
       "    </tr>\n",
       "    <tr>\n",
       "      <th>...</th>\n",
       "      <td>...</td>\n",
       "      <td>...</td>\n",
       "      <td>...</td>\n",
       "      <td>...</td>\n",
       "      <td>...</td>\n",
       "      <td>...</td>\n",
       "      <td>...</td>\n",
       "    </tr>\n",
       "    <tr>\n",
       "      <th>95</th>\n",
       "      <td>캡왕돈까스</td>\n",
       "      <td>4.2점</td>\n",
       "      <td>경기도 부천시 중동 1158-5</td>\n",
       "      <td>032-323-2547</td>\n",
       "      <td>영업시간매일오전 11시 - 오후 9시 30분</td>\n",
       "      <td>돈까스7,000원치즈돈까스8,000원생선까스8,000원</td>\n",
       "      <td>4건의 방문자 평가4.2점맛4.5 가격4.0 서비스4.0방문목적점심식사(4) 저녁식...</td>\n",
       "    </tr>\n",
       "    <tr>\n",
       "      <th>96</th>\n",
       "      <td>진순자 김밥</td>\n",
       "      <td>4.0점</td>\n",
       "      <td>서울특별시 관악구 청룡동 895-1</td>\n",
       "      <td>02-883-1824</td>\n",
       "      <td>영업시간월-금,토오전 8시 - 오후 11시휴무일매주 일요일</td>\n",
       "      <td>계란말이 김밥5,000원우동4,500원오뎅4,000원</td>\n",
       "      <td>3건의 방문자 평가4.0점맛5.0 가격3.0 서비스3.0방문목적점심식사(3) 저녁식...</td>\n",
       "    </tr>\n",
       "    <tr>\n",
       "      <th>97</th>\n",
       "      <td>묘오또</td>\n",
       "      <td>3.7점</td>\n",
       "      <td>서울특별시 서초구 방배동 850-1</td>\n",
       "      <td>02-536-5980</td>\n",
       "      <td>영업시간매일오전 11시 30분 - 오후 2시 30분 (14:40까지)매일오후 5시 ...</td>\n",
       "      <td>붓가케우동7,000원일본식 돈까스8,500원</td>\n",
       "      <td>5건의 방문자 평가3.7점맛4.5 가격3.7 서비스2.8방문목적점심식사(5) 아이동...</td>\n",
       "    </tr>\n",
       "    <tr>\n",
       "      <th>98</th>\n",
       "      <td>카마타케제면소</td>\n",
       "      <td>4.2점</td>\n",
       "      <td>충청북도 청주시 흥덕구 706</td>\n",
       "      <td>043-231-3933</td>\n",
       "      <td>영업시간월-금오전 11시 - 오후 9시 ( Last oder 8:20pm)쉬는시간 ...</td>\n",
       "      <td>치쿠텐붓카케우동8,000원나베야끼우동11,000원</td>\n",
       "      <td>3건의 방문자 평가4.2점맛5.0 가격3.5 서비스3.5방문목적점심식사(3) 데이트...</td>\n",
       "    </tr>\n",
       "    <tr>\n",
       "      <th>99</th>\n",
       "      <td>권가제면소</td>\n",
       "      <td>5.0점</td>\n",
       "      <td>충청북도 청주시 흥덕구 산남동 522</td>\n",
       "      <td>043-295-2013</td>\n",
       "      <td>영업시간매일오전 11시 - 오후 3시 (일요일 영업합니다. 마지막주 월요일 하루만 ...</td>\n",
       "      <td>치쿠타마붓카케우동9,000원자루우동8,000원불고기우동9,000원</td>\n",
       "      <td>3건의 방문자 평가5.0점맛5.0 가격4.0 서비스4.0방문목적점심식사(2) 혼밥(...</td>\n",
       "    </tr>\n",
       "  </tbody>\n",
       "</table>\n",
       "<p>100 rows × 7 columns</p>\n",
       "</div>"
      ],
      "text/plain": [
       "              맛집    평점                             주소            번호  \\\n",
       "0          우동 카덴  4.0점            서울특별시 마포구 서교동 391-5  02-6463-6362   \n",
       "1            수우동  3.9점     제주특별자치도 제주시 한림읍 협재리 1706-1  064-796-5830   \n",
       "2          우동가조쿠  4.1점            서울특별시 성동구 행당동 32-22   02-762-2177   \n",
       "3   이나니와 요스케 시청점  3.9점  서울특별시 중구 을지로1가 192-11 재능빌딩 1층   02-772-9994   \n",
       "4           만선호프  3.7점            서울특별시 중구 을지로3가 95-1  02-2274-1040   \n",
       "..           ...   ...                            ...           ...   \n",
       "95         캡왕돈까스  4.2점              경기도 부천시 중동 1158-5  032-323-2547   \n",
       "96        진순자 김밥  4.0점            서울특별시 관악구 청룡동 895-1   02-883-1824   \n",
       "97           묘오또  3.7점            서울특별시 서초구 방배동 850-1   02-536-5980   \n",
       "98       카마타케제면소  4.2점               충청북도 청주시 흥덕구 706  043-231-3933   \n",
       "99         권가제면소  5.0점           충청북도 청주시 흥덕구 산남동 522  043-295-2013   \n",
       "\n",
       "                                                 영업시간  \\\n",
       "0   영업시간월-금오전 11시 30분 - 오후 2시 30분 (점심 마지막주문 14:40)...   \n",
       "1   영업시간월,수,목,금,토/일오전 11시 - 오후 7시월요일오전 11시 - 오후 4시더보기   \n",
       "2   영업시간매일오전 11시 - 오후 8시 ((면 소진 시 , 명절휴무))매일오후 3시 ...   \n",
       "3   영업시간월-금오전 11시 - 오후 2시 (Last order 13:40)월-금오후 ...   \n",
       "4                        영업시간매일정오 12시 - 자정 12시 (연중무휴)   \n",
       "..                                                ...   \n",
       "95                           영업시간매일오전 11시 - 오후 9시 30분   \n",
       "96                   영업시간월-금,토오전 8시 - 오후 11시휴무일매주 일요일   \n",
       "97  영업시간매일오전 11시 30분 - 오후 2시 30분 (14:40까지)매일오후 5시 ...   \n",
       "98  영업시간월-금오전 11시 - 오후 9시 ( Last oder 8:20pm)쉬는시간 ...   \n",
       "99  영업시간매일오전 11시 - 오후 3시 (일요일 영업합니다. 마지막주 월요일 하루만 ...   \n",
       "\n",
       "                                     메뉴정보  \\\n",
       "0          우동6,000원덴뿌라우동9,000원붓가케우동8,500원   \n",
       "1         수우동8,000원유부우동9,000원자작냉우동11,000원   \n",
       "2        붓가케우동5,500원가마타마6,000원가조쿠우동7,000원   \n",
       "3   연어 샐러드8,000원카라아게8,000원에비크림 고로케15,000원   \n",
       "4         생맥주3,500원골뱅이 무침25,000원노가리1,000원   \n",
       "..                                    ...   \n",
       "95         돈까스7,000원치즈돈까스8,000원생선까스8,000원   \n",
       "96          계란말이 김밥5,000원우동4,500원오뎅4,000원   \n",
       "97               붓가케우동7,000원일본식 돈까스8,500원   \n",
       "98            치쿠텐붓카케우동8,000원나베야끼우동11,000원   \n",
       "99   치쿠타마붓카케우동9,000원자루우동8,000원불고기우동9,000원   \n",
       "\n",
       "                                                   리뷰  \n",
       "0   44건의 방문자 평가4.0점맛4.5 가격3.9 서비스4.0방문목적점심식사(33) 저...  \n",
       "1   38건의 방문자 평가3.9점맛4.3 가격2.8 서비스3.6방문목적점심식사(27) 데...  \n",
       "2   37건의 방문자 평가4.1점맛4.4 가격4.7 서비스4.3방문목적점심식사(27) 혼...  \n",
       "3   24건의 방문자 평가3.9점맛4.1 가격3.3 서비스4.5방문목적점심식사(14) 저...  \n",
       "4   40건의 방문자 평가3.7점맛3.7 가격3.7 서비스3.3방문목적술모임(35) 저녁...  \n",
       "..                                                ...  \n",
       "95  4건의 방문자 평가4.2점맛4.5 가격4.0 서비스4.0방문목적점심식사(4) 저녁식...  \n",
       "96  3건의 방문자 평가4.0점맛5.0 가격3.0 서비스3.0방문목적점심식사(3) 저녁식...  \n",
       "97  5건의 방문자 평가3.7점맛4.5 가격3.7 서비스2.8방문목적점심식사(5) 아이동...  \n",
       "98  3건의 방문자 평가4.2점맛5.0 가격3.5 서비스3.5방문목적점심식사(3) 데이트...  \n",
       "99  3건의 방문자 평가5.0점맛5.0 가격4.0 서비스4.0방문목적점심식사(2) 혼밥(...  \n",
       "\n",
       "[100 rows x 7 columns]"
      ]
     },
     "execution_count": 20,
     "metadata": {},
     "output_type": "execute_result"
    }
   ],
   "source": [
    "test"
   ]
  },
  {
   "cell_type": "code",
   "execution_count": 21,
   "metadata": {},
   "outputs": [],
   "source": [
    "test.to_csv('우동.csv', index=False, encoding='utf-8-sig')"
   ]
  },
  {
   "cell_type": "code",
   "execution_count": null,
   "metadata": {},
   "outputs": [],
   "source": []
  }
 ],
 "metadata": {
  "kernelspec": {
   "display_name": "Python 3",
   "language": "python",
   "name": "python3"
  },
  "language_info": {
   "codemirror_mode": {
    "name": "ipython",
    "version": 3
   },
   "file_extension": ".py",
   "mimetype": "text/x-python",
   "name": "python",
   "nbconvert_exporter": "python",
   "pygments_lexer": "ipython3",
   "version": "3.7.6"
  }
 },
 "nbformat": 4,
 "nbformat_minor": 4
}

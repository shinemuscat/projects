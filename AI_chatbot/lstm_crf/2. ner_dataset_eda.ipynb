{
 "cells": [
  {
   "cell_type": "code",
   "execution_count": 1,
   "metadata": {},
   "outputs": [],
   "source": [
    "import pandas as pd\n",
    "import numpy as np\n",
    "%matplotlib inline\n",
    "import matplotlib.pyplot as plt\n",
    "from tensorflow.keras.preprocessing.text import Tokenizer\n",
    "from tensorflow.keras.preprocessing.sequence import pad_sequences\n",
    "from sklearn.model_selection import train_test_split\n",
    "from tensorflow.keras.utils import to_categorical"
   ]
  },
  {
   "cell_type": "code",
   "execution_count": 2,
   "metadata": {},
   "outputs": [],
   "source": [
    "# data = pd.read_csv(\"./data/ner_dataset.csv\", encoding=\"latin1\")\n",
    "data = pd.read_pickle(\"C://Users//ILIFO-001//소스//gy_ner.pkl\")"
   ]
  },
  {
   "cell_type": "code",
   "execution_count": 3,
   "metadata": {},
   "outputs": [
    {
     "data": {
      "text/html": [
       "<div>\n",
       "<style scoped>\n",
       "    .dataframe tbody tr th:only-of-type {\n",
       "        vertical-align: middle;\n",
       "    }\n",
       "\n",
       "    .dataframe tbody tr th {\n",
       "        vertical-align: top;\n",
       "    }\n",
       "\n",
       "    .dataframe thead th {\n",
       "        text-align: right;\n",
       "    }\n",
       "</style>\n",
       "<table border=\"1\" class=\"dataframe\">\n",
       "  <thead>\n",
       "    <tr style=\"text-align: right;\">\n",
       "      <th></th>\n",
       "      <th>Sentence #</th>\n",
       "      <th>Word</th>\n",
       "      <th>POS</th>\n",
       "      <th>Tag</th>\n",
       "    </tr>\n",
       "  </thead>\n",
       "  <tbody>\n",
       "    <tr>\n",
       "      <th>0</th>\n",
       "      <td>sentence_00002_NER_1</td>\n",
       "      <td>오에</td>\n",
       "      <td>NNG</td>\n",
       "      <td>B-PER</td>\n",
       "    </tr>\n",
       "    <tr>\n",
       "      <th>1</th>\n",
       "      <td>sentence_00002_NER_1</td>\n",
       "      <td>겐자부로</td>\n",
       "      <td>NNP</td>\n",
       "      <td>I-PER</td>\n",
       "    </tr>\n",
       "    <tr>\n",
       "      <th>2</th>\n",
       "      <td>sentence_00002_NER_1</td>\n",
       "      <td>는</td>\n",
       "      <td>JX</td>\n",
       "      <td>O</td>\n",
       "    </tr>\n",
       "    <tr>\n",
       "      <th>3</th>\n",
       "      <td>sentence_00002_NER_1</td>\n",
       "      <td>일본</td>\n",
       "      <td>NNP</td>\n",
       "      <td>B-LOC</td>\n",
       "    </tr>\n",
       "    <tr>\n",
       "      <th>4</th>\n",
       "      <td>sentence_00002_NER_1</td>\n",
       "      <td>현대</td>\n",
       "      <td>NNG</td>\n",
       "      <td>O</td>\n",
       "    </tr>\n",
       "    <tr>\n",
       "      <th>...</th>\n",
       "      <td>...</td>\n",
       "      <td>...</td>\n",
       "      <td>...</td>\n",
       "      <td>...</td>\n",
       "    </tr>\n",
       "    <tr>\n",
       "      <th>643426</th>\n",
       "      <td>sentence_EXOBRAIN_NE_CORPUS_010_1892</td>\n",
       "      <td>구입해</td>\n",
       "      <td>VV+EC</td>\n",
       "      <td>O</td>\n",
       "    </tr>\n",
       "    <tr>\n",
       "      <th>643427</th>\n",
       "      <td>sentence_EXOBRAIN_NE_CORPUS_010_1892</td>\n",
       "      <td>기증한</td>\n",
       "      <td>VV+ETM</td>\n",
       "      <td>O</td>\n",
       "    </tr>\n",
       "    <tr>\n",
       "      <th>643428</th>\n",
       "      <td>sentence_EXOBRAIN_NE_CORPUS_010_1892</td>\n",
       "      <td>것</td>\n",
       "      <td>NNB</td>\n",
       "      <td>O</td>\n",
       "    </tr>\n",
       "    <tr>\n",
       "      <th>643429</th>\n",
       "      <td>sentence_EXOBRAIN_NE_CORPUS_010_1892</td>\n",
       "      <td>이</td>\n",
       "      <td>VCP</td>\n",
       "      <td>O</td>\n",
       "    </tr>\n",
       "    <tr>\n",
       "      <th>643430</th>\n",
       "      <td>sentence_EXOBRAIN_NE_CORPUS_010_1892</td>\n",
       "      <td>다</td>\n",
       "      <td>EC</td>\n",
       "      <td>O</td>\n",
       "    </tr>\n",
       "  </tbody>\n",
       "</table>\n",
       "<p>643431 rows × 4 columns</p>\n",
       "</div>"
      ],
      "text/plain": [
       "                                  Sentence #  Word     POS    Tag\n",
       "0                       sentence_00002_NER_1    오에     NNG  B-PER\n",
       "1                       sentence_00002_NER_1  겐자부로     NNP  I-PER\n",
       "2                       sentence_00002_NER_1     는      JX      O\n",
       "3                       sentence_00002_NER_1    일본     NNP  B-LOC\n",
       "4                       sentence_00002_NER_1    현대     NNG      O\n",
       "...                                      ...   ...     ...    ...\n",
       "643426  sentence_EXOBRAIN_NE_CORPUS_010_1892   구입해   VV+EC      O\n",
       "643427  sentence_EXOBRAIN_NE_CORPUS_010_1892   기증한  VV+ETM      O\n",
       "643428  sentence_EXOBRAIN_NE_CORPUS_010_1892     것     NNB      O\n",
       "643429  sentence_EXOBRAIN_NE_CORPUS_010_1892     이     VCP      O\n",
       "643430  sentence_EXOBRAIN_NE_CORPUS_010_1892     다      EC      O\n",
       "\n",
       "[643431 rows x 4 columns]"
      ]
     },
     "execution_count": 3,
     "metadata": {},
     "output_type": "execute_result"
    }
   ],
   "source": [
    "data"
   ]
  },
  {
   "cell_type": "code",
   "execution_count": 4,
   "metadata": {},
   "outputs": [
    {
     "name": "stdout",
     "output_type": "stream",
     "text": [
      "데이터프레임 행의 개수 : 643431\n"
     ]
    }
   ],
   "source": [
    "print('데이터프레임 행의 개수 : {}'.format(len(data)))"
   ]
  },
  {
   "cell_type": "code",
   "execution_count": 5,
   "metadata": {},
   "outputs": [
    {
     "name": "stdout",
     "output_type": "stream",
     "text": [
      "데이터에 Null 값이 있는지 유무 : True\n"
     ]
    }
   ],
   "source": [
    "print('데이터에 Null 값이 있는지 유무 : ' + str(data.isnull().values.any()))"
   ]
  },
  {
   "cell_type": "code",
   "execution_count": 6,
   "metadata": {},
   "outputs": [
    {
     "name": "stdout",
     "output_type": "stream",
     "text": [
      "어떤 열에 Null값이 있는지 출력\n",
      "==============================\n"
     ]
    },
    {
     "data": {
      "text/plain": [
       "Sentence #    0\n",
       "Word          0\n",
       "POS           3\n",
       "Tag           0\n",
       "dtype: int64"
      ]
     },
     "execution_count": 6,
     "metadata": {},
     "output_type": "execute_result"
    }
   ],
   "source": [
    "print('어떤 열에 Null값이 있는지 출력')\n",
    "print('==============================')\n",
    "data.isnull().sum()"
   ]
  },
  {
   "cell_type": "code",
   "execution_count": 7,
   "metadata": {},
   "outputs": [
    {
     "name": "stdout",
     "output_type": "stream",
     "text": [
      "sentence # 열의 중복을 제거한 값의 개수 : 23115\n",
      "Word 열의 중복을 제거한 값의 개수 : 46349\n",
      "Tag 열의 중복을 제거한 값의 개수 : 21\n"
     ]
    }
   ],
   "source": [
    "print('sentence # 열의 중복을 제거한 값의 개수 : {}'.format(data['Sentence #'].nunique()))\n",
    "print('Word 열의 중복을 제거한 값의 개수 : {}'.format(data.Word.nunique()))\n",
    "print('Tag 열의 중복을 제거한 값의 개수 : {}'.format(data.Tag.nunique()))"
   ]
  },
  {
   "cell_type": "code",
   "execution_count": 8,
   "metadata": {},
   "outputs": [
    {
     "name": "stdout",
     "output_type": "stream",
     "text": [
      "Tag 열의 각각의 값의 개수 카운트\n",
      "================================\n",
      "      Tag   count\n",
      "0   B-DAT    6682\n",
      "1   B-DUR    1584\n",
      "2   B-LOC    7800\n",
      "3   B-MNY    1618\n",
      "4   B-NOH   16201\n",
      "5   B-ORG   17064\n",
      "6   B-PER   18414\n",
      "7   B-PNT    1888\n",
      "8   B-POH    8341\n",
      "9   B-TIM     483\n",
      "10  I-DAT    7666\n",
      "11  I-DUR    2739\n",
      "12  I-LOC    3140\n",
      "13  I-MNY    3675\n",
      "14  I-NOH   15974\n",
      "15  I-ORG    9294\n",
      "16  I-PER    4032\n",
      "17  I-PNT     360\n",
      "18  I-POH   12416\n",
      "19  I-TIM    1241\n",
      "20      O  502819\n"
     ]
    }
   ],
   "source": [
    "print('Tag 열의 각각의 값의 개수 카운트')\n",
    "print('================================')\n",
    "print(data.groupby('Tag').size().reset_index(name='count'))"
   ]
  },
  {
   "cell_type": "code",
   "execution_count": 9,
   "metadata": {},
   "outputs": [],
   "source": [
    "data = data.fillna(method=\"ffill\")"
   ]
  },
  {
   "cell_type": "code",
   "execution_count": 10,
   "metadata": {},
   "outputs": [
    {
     "name": "stdout",
     "output_type": "stream",
     "text": [
      "                                  Sentence # Word     POS Tag\n",
      "643426  sentence_EXOBRAIN_NE_CORPUS_010_1892  구입해   VV+EC   O\n",
      "643427  sentence_EXOBRAIN_NE_CORPUS_010_1892  기증한  VV+ETM   O\n",
      "643428  sentence_EXOBRAIN_NE_CORPUS_010_1892    것     NNB   O\n",
      "643429  sentence_EXOBRAIN_NE_CORPUS_010_1892    이     VCP   O\n",
      "643430  sentence_EXOBRAIN_NE_CORPUS_010_1892    다      EC   O\n"
     ]
    }
   ],
   "source": [
    "print(data.tail())"
   ]
  },
  {
   "cell_type": "code",
   "execution_count": 11,
   "metadata": {},
   "outputs": [
    {
     "name": "stdout",
     "output_type": "stream",
     "text": [
      "데이터에 Null 값이 있는지 유무 : False\n"
     ]
    }
   ],
   "source": [
    "print('데이터에 Null 값이 있는지 유무 : ' + str(data.isnull().values.any()))"
   ]
  },
  {
   "cell_type": "code",
   "execution_count": 12,
   "metadata": {},
   "outputs": [
    {
     "name": "stdout",
     "output_type": "stream",
     "text": [
      "Word 열의 중복을 제거한 값의 개수 : 46137\n"
     ]
    }
   ],
   "source": [
    "data['Word'] = data['Word'].str.lower()\n",
    "print('Word 열의 중복을 제거한 값의 개수 : {}'.format(data.Word.nunique()))"
   ]
  },
  {
   "cell_type": "code",
   "execution_count": 13,
   "metadata": {},
   "outputs": [
    {
     "name": "stdout",
     "output_type": "stream",
     "text": [
      "             Sentence #  Word  POS    Tag\n",
      "0  sentence_00002_NER_1    오에  NNG  B-PER\n",
      "1  sentence_00002_NER_1  겐자부로  NNP  I-PER\n",
      "2  sentence_00002_NER_1     는   JX      O\n",
      "3  sentence_00002_NER_1    일본  NNP  B-LOC\n",
      "4  sentence_00002_NER_1    현대  NNG      O\n"
     ]
    }
   ],
   "source": [
    "print(data[:5])"
   ]
  },
  {
   "cell_type": "code",
   "execution_count": 14,
   "metadata": {},
   "outputs": [
    {
     "name": "stdout",
     "output_type": "stream",
     "text": [
      "전체 샘플 개수: 23115\n"
     ]
    }
   ],
   "source": [
    "func = lambda temp: [(w, t) for w, t in zip(temp[\"Word\"].values.tolist(), temp[\"Tag\"].values.tolist())]\n",
    "tagged_sentences=[t for t in data.groupby(\"Sentence #\").apply(func)]\n",
    "print(\"전체 샘플 개수: {}\".format(len(tagged_sentences)))"
   ]
  },
  {
   "cell_type": "code",
   "execution_count": 15,
   "metadata": {},
   "outputs": [
    {
     "name": "stdout",
     "output_type": "stream",
     "text": [
      "[('오에', 'B-PER'), ('겐자부로', 'I-PER'), ('는', 'O'), ('일본', 'B-LOC'), ('현대', 'O'), ('문학', 'O'), ('의', 'O'), ('초석', 'O'), ('을', 'O'), ('놓', 'O'), ('은', 'O'), ('것', 'O'), ('으로', 'O'), ('평가', 'O'), ('받', 'O'), ('는', 'O'), ('작가', 'O'), ('나쓰메', 'B-PER'), ('소세키', 'I-PER'), ('1867', 'B-DUR'), ('1916', 'I-DUR'), ('의', 'O'), ('대표작', 'O'), ('마음', 'B-POH'), ('에', 'O'), ('담긴', 'O'), ('군국주의', 'O'), ('적', 'O'), ('요소', 'O'), ('야스쿠니', 'B-ORG'), ('신사', 'I-ORG'), ('참배', 'O'), ('행위', 'O'), ('까지', 'O'), ('소설', 'O'), ('의', 'O'), ('삽화', 'O'), ('로', 'O'), ('동원하', 'O'), ('며', 'O'), ('일본', 'B-ORG'), ('사회', 'O'), ('의', 'O'), ('비정상', 'O'), ('성', 'O'), ('을', 'O'), ('문제', 'O'), ('삼', 'O'), ('는다', 'O')]\n"
     ]
    }
   ],
   "source": [
    "print(tagged_sentences[0]) # 첫번째 샘플 출력"
   ]
  },
  {
   "cell_type": "code",
   "execution_count": 16,
   "metadata": {},
   "outputs": [],
   "source": [
    "sentences, ner_tags = [], [] \n",
    "for tagged_sentence in tagged_sentences: # 47,959개의 문장 샘플을 1개씩 불러온다.\n",
    "    sentence, tag_info = zip(*tagged_sentence) # 각 샘플에서 단어들은 sentence에 개체명 태깅 정보들은 tag_info에 저장.\n",
    "    sentences.append(list(sentence)) # 각 샘플에서 단어 정보만 저장한다.\n",
    "    ner_tags.append(list(tag_info)) # 각 샘플에서 개체명 태깅 정보만 저장한다."
   ]
  },
  {
   "cell_type": "code",
   "execution_count": 17,
   "metadata": {},
   "outputs": [
    {
     "name": "stdout",
     "output_type": "stream",
     "text": [
      "['오에', '겐자부로', '는', '일본', '현대', '문학', '의', '초석', '을', '놓', '은', '것', '으로', '평가', '받', '는', '작가', '나쓰메', '소세키', '1867', '1916', '의', '대표작', '마음', '에', '담긴', '군국주의', '적', '요소', '야스쿠니', '신사', '참배', '행위', '까지', '소설', '의', '삽화', '로', '동원하', '며', '일본', '사회', '의', '비정상', '성', '을', '문제', '삼', '는다']\n",
      "['B-PER', 'I-PER', 'O', 'B-LOC', 'O', 'O', 'O', 'O', 'O', 'O', 'O', 'O', 'O', 'O', 'O', 'O', 'O', 'B-PER', 'I-PER', 'B-DUR', 'I-DUR', 'O', 'O', 'B-POH', 'O', 'O', 'O', 'O', 'O', 'B-ORG', 'I-ORG', 'O', 'O', 'O', 'O', 'O', 'O', 'O', 'O', 'O', 'B-ORG', 'O', 'O', 'O', 'O', 'O', 'O', 'O', 'O']\n"
     ]
    }
   ],
   "source": [
    "print(sentences[0])\n",
    "print(ner_tags[0])"
   ]
  },
  {
   "cell_type": "code",
   "execution_count": 18,
   "metadata": {},
   "outputs": [
    {
     "name": "stdout",
     "output_type": "stream",
     "text": [
      "['북한', '이탈', '주민', '을', '위한', '창업', '교육', '도', '한다']\n",
      "['B-ORG', 'O', 'O', 'O', 'O', 'O', 'O', 'O', 'O']\n"
     ]
    }
   ],
   "source": [
    "print(sentences[98])\n",
    "print(ner_tags[98])"
   ]
  },
  {
   "cell_type": "code",
   "execution_count": 19,
   "metadata": {},
   "outputs": [
    {
     "name": "stdout",
     "output_type": "stream",
     "text": [
      "샘플의 최대 길이 : 371\n",
      "샘플의 평균 길이 : 27.836080\n"
     ]
    },
    {
     "data": {
      "image/png": "[encoded data removed]",
      "text/plain": [
       "<Figure size 432x288 with 1 Axes>"
      ]
     },
     "metadata": {
      "needs_background": "light"
     },
     "output_type": "display_data"
    }
   ],
   "source": [
    "print('샘플의 최대 길이 : %d' % max(len(l) for l in sentences))\n",
    "print('샘플의 평균 길이 : %f' % (sum(map(len, sentences))/len(sentences)))\n",
    "plt.hist([len(s) for s in sentences], bins=50)\n",
    "plt.xlabel('length of samples')\n",
    "plt.ylabel('number of samples')\n",
    "plt.show()"
   ]
  },
  {
   "cell_type": "code",
   "execution_count": 20,
   "metadata": {},
   "outputs": [],
   "source": [
    "src_tokenizer = Tokenizer(oov_token='OOV') # 모든 단어를 사용하지만 인덱스 1에는 단어 'OOV'를 할당한다.\n",
    "src_tokenizer.fit_on_texts(sentences)\n",
    "tar_tokenizer = Tokenizer(lower=False) # 태깅 정보들은 내부적으로 대문자를 유지한채로 저장\n",
    "tar_tokenizer.fit_on_texts(ner_tags)"
   ]
  },
  {
   "cell_type": "code",
   "execution_count": 21,
   "metadata": {},
   "outputs": [
    {
     "name": "stdout",
     "output_type": "stream",
     "text": [
      "단어 집합의 크기 : 46139\n",
      "개체명 태깅 정보 집합의 크기 : 22\n"
     ]
    }
   ],
   "source": [
    "vocab_size = len(src_tokenizer.word_index) + 1\n",
    "tag_size = len(tar_tokenizer.word_index) + 1\n",
    "print('단어 집합의 크기 : {}'.format(vocab_size))\n",
    "print('개체명 태깅 정보 집합의 크기 : {}'.format(tag_size))"
   ]
  },
  {
   "cell_type": "code",
   "execution_count": 22,
   "metadata": {},
   "outputs": [
    {
     "name": "stdout",
     "output_type": "stream",
     "text": [
      "단어 OOV의 인덱스 : 1\n"
     ]
    }
   ],
   "source": [
    "print('단어 OOV의 인덱스 : {}'.format(src_tokenizer.word_index['OOV']))"
   ]
  },
  {
   "cell_type": "code",
   "execution_count": 23,
   "metadata": {},
   "outputs": [],
   "source": [
    "X_train = src_tokenizer.texts_to_sequences(sentences)\n",
    "y_train = tar_tokenizer.texts_to_sequences(ner_tags)"
   ]
  },
  {
   "cell_type": "code",
   "execution_count": 24,
   "metadata": {},
   "outputs": [
    {
     "name": "stdout",
     "output_type": "stream",
     "text": [
      "[23871, 23872, 4, 101, 724, 2543, 6, 23873, 3, 452, 8, 23, 15, 310, 55, 4, 1095, 23874, 23875, 23876, 23877, 6, 11049, 516, 7, 2444, 13261, 171, 2852, 16829, 6730, 3885, 1263, 46, 2445, 6, 16830, 16, 16831, 33, 101, 405, 6, 4345, 361, 3, 191, 1198, 270]\n",
      "[2, 12, 1, 9, 1, 1, 1, 1, 1, 1, 1, 1, 1, 1, 1, 1, 1, 2, 12, 18, 15, 1, 1, 8, 1, 1, 1, 1, 1, 3, 7, 1, 1, 1, 1, 1, 1, 1, 1, 1, 3, 1, 1, 1, 1, 1, 1, 1, 1]\n"
     ]
    }
   ],
   "source": [
    "print(X_train[0])\n",
    "print(y_train[0])"
   ]
  },
  {
   "cell_type": "code",
   "execution_count": 25,
   "metadata": {},
   "outputs": [],
   "source": [
    "index_to_word = src_tokenizer.index_word\n",
    "index_to_ner = tar_tokenizer.index_word\n",
    "index_to_ner[0]='PAD'"
   ]
  },
  {
   "cell_type": "code",
   "execution_count": 26,
   "metadata": {},
   "outputs": [
    {
     "name": "stdout",
     "output_type": "stream",
     "text": [
      "{1: 'O', 2: 'B-PER', 3: 'B-ORG', 4: 'B-NOH', 5: 'I-NOH', 6: 'I-POH', 7: 'I-ORG', 8: 'B-POH', 9: 'B-LOC', 10: 'I-DAT', 11: 'B-DAT', 12: 'I-PER', 13: 'I-MNY', 14: 'I-LOC', 15: 'I-DUR', 16: 'B-PNT', 17: 'B-MNY', 18: 'B-DUR', 19: 'I-TIM', 20: 'B-TIM', 21: 'I-PNT', 0: 'PAD'}\n"
     ]
    }
   ],
   "source": [
    "print(index_to_ner)"
   ]
  },
  {
   "cell_type": "code",
   "execution_count": 27,
   "metadata": {},
   "outputs": [
    {
     "name": "stdout",
     "output_type": "stream",
     "text": [
      "기존의 문장 : ['오에', '겐자부로', '는', '일본', '현대', '문학', '의', '초석', '을', '놓', '은', '것', '으로', '평가', '받', '는', '작가', '나쓰메', '소세키', '1867', '1916', '의', '대표작', '마음', '에', '담긴', '군국주의', '적', '요소', '야스쿠니', '신사', '참배', '행위', '까지', '소설', '의', '삽화', '로', '동원하', '며', '일본', '사회', '의', '비정상', '성', '을', '문제', '삼', '는다']\n",
      "디코딩 문장 : ['오에', '겐자부로', '는', '일본', '현대', '문학', '의', '초석', '을', '놓', '은', '것', '으로', '평가', '받', '는', '작가', '나쓰메', '소세키', '1867', '1916', '의', '대표작', '마음', '에', '담긴', '군국주의', '적', '요소', '야스쿠니', '신사', '참배', '행위', '까지', '소설', '의', '삽화', '로', '동원하', '며', '일본', '사회', '의', '비정상', '성', '을', '문제', '삼', '는다']\n"
     ]
    }
   ],
   "source": [
    "decoded = []\n",
    "for index in X_train[0] : # 첫번째 샘플 안의 인덱스들에 대해서\n",
    "    decoded.append(index_to_word[index]) # 다시 단어로 변환\n",
    "\n",
    "print('기존의 문장 : {}'.format(sentences[0]))\n",
    "print('디코딩 문장 : {}'.format(decoded))"
   ]
  },
  {
   "cell_type": "code",
   "execution_count": 28,
   "metadata": {},
   "outputs": [],
   "source": [
    "max_len = 125\n",
    "X_train = pad_sequences(X_train, padding='post', maxlen=max_len)\n",
    "# X_train의 모든 샘플들의 길이를 맞출 때 뒤의 공간에 숫자 0으로 채움.\n",
    "y_train = pad_sequences(y_train, padding='post', maxlen=max_len)\n",
    "# y_train의 모든 샘플들의 길이를 맞출 때 뒤의 공간에 숫자0으로 채움."
   ]
  },
  {
   "cell_type": "code",
   "execution_count": 29,
   "metadata": {},
   "outputs": [],
   "source": [
    "X_train, X_test, y_train, y_test = train_test_split(X_train, y_train, test_size=.2, random_state=777)"
   ]
  },
  {
   "cell_type": "code",
   "execution_count": 30,
   "metadata": {},
   "outputs": [],
   "source": [
    "y_train = to_categorical(y_train, num_classes=tag_size)\n",
    "y_test = to_categorical(y_test, num_classes=tag_size)"
   ]
  },
  {
   "cell_type": "code",
   "execution_count": 31,
   "metadata": {},
   "outputs": [
    {
     "name": "stdout",
     "output_type": "stream",
     "text": [
      "train 데이터 : (18492, 125)\n",
      "train 레이블 : (18492, 125, 22)\n",
      "test 데이터 : (4623, 125)\n",
      "test 레이블 : (4623, 125, 22)\n"
     ]
    }
   ],
   "source": [
    "print('train 데이터 : {}'.format(X_train.shape))\n",
    "print('train 레이블 : {}'.format(y_train.shape))\n",
    "print('test 데이터 : {}'.format(X_test.shape))\n",
    "print('test 레이블 : {}'.format(y_test.shape))"
   ]
  },
  {
   "cell_type": "markdown",
   "metadata": {},
   "source": [
    "---"
   ]
  },
  {
   "cell_type": "code",
   "execution_count": 32,
   "metadata": {},
   "outputs": [],
   "source": [
    "import pickle"
   ]
  },
  {
   "cell_type": "code",
   "execution_count": 34,
   "metadata": {},
   "outputs": [],
   "source": [
    "pkl_data = (X_train, X_test, y_train, y_test)\n",
    "pd.to_pickle(pkl_data, 'ner_kor_dataset.pkl')"
   ]
  },
  {
   "cell_type": "code",
   "execution_count": 35,
   "metadata": {},
   "outputs": [],
   "source": [
    "X_train, X_test, y_train, y_test = pd.read_pickle('ner_kor_dataset.pkl')"
   ]
  },
  {
   "cell_type": "code",
   "execution_count": 36,
   "metadata": {},
   "outputs": [
    {
     "name": "stdout",
     "output_type": "stream",
     "text": [
      "훈련 샘플 문장의 크기 : (18492, 125)\n",
      "훈련 샘플 레이블의 크기 : (18492, 125, 22)\n",
      "테스트 샘플 문장의 크기 : (4623, 125)\n",
      "테스트 샘플 레이블의 크기 : (4623, 125, 22)\n"
     ]
    }
   ],
   "source": [
    "print('훈련 샘플 문장의 크기 : {}'.format(X_train.shape))\n",
    "print('훈련 샘플 레이블의 크기 : {}'.format(y_train.shape))\n",
    "print('테스트 샘플 문장의 크기 : {}'.format(X_test.shape))\n",
    "print('테스트 샘플 레이블의 크기 : {}'.format(y_test.shape))"
   ]
  },
  {
   "cell_type": "code",
   "execution_count": null,
   "metadata": {},
   "outputs": [],
   "source": []
  }
 ],
 "metadata": {
  "kernelspec": {
   "display_name": "Tensorflow",
   "language": "python",
   "name": "tensorflow"
  },
  "language_info": {
   "codemirror_mode": {
    "name": "ipython",
    "version": 3
   },
   "file_extension": ".py",
   "mimetype": "text/x-python",
   "name": "python",
   "nbconvert_exporter": "python",
   "pygments_lexer": "ipython3",
   "version": "3.7.6"
  }
 },
 "nbformat": 4,
 "nbformat_minor": 4
}

{
 "cells": [
  {
   "cell_type": "code",
   "execution_count": 1,
   "metadata": {},
   "outputs": [
    {
     "data": {
      "text/plain": [
       "'2.3.0'"
      ]
     },
     "execution_count": 1,
     "metadata": {},
     "output_type": "execute_result"
    }
   ],
   "source": [
    "import tensorflow as tf\n",
    "tf.__version__"
   ]
  },
  {
   "cell_type": "code",
   "execution_count": 3,
   "metadata": {},
   "outputs": [
    {
     "data": {
      "text/plain": [
       "'2.4.3'"
      ]
     },
     "execution_count": 3,
     "metadata": {},
     "output_type": "execute_result"
    }
   ],
   "source": [
    "import keras\n",
    "keras.__version__"
   ]
  },
  {
   "cell_type": "code",
   "execution_count": 4,
   "metadata": {},
   "outputs": [],
   "source": [
    "!pip install tf2crf"
   ]
  },
  {
   "cell_type": "code",
   "execution_count": 5,
   "metadata": {
    "colab": {},
    "colab_type": "code",
    "id": "G0UysXk332RW"
   },
   "outputs": [],
   "source": [
    "import pandas as pd\n",
    "import numpy as np\n",
    "import matplotlib.pyplot as plt\n",
    "from tensorflow.keras.preprocessing.text import Tokenizer\n",
    "from tensorflow.keras.preprocessing.sequence import pad_sequences\n",
    "from sklearn.model_selection import train_test_split\n",
    "from tensorflow.keras.utils import to_categorical"
   ]
  },
  {
   "cell_type": "code",
   "execution_count": 6,
   "metadata": {
    "colab": {},
    "colab_type": "code",
    "id": "VylQol4N7uSQ"
   },
   "outputs": [],
   "source": [
    "import pandas as pd"
   ]
  },
  {
   "cell_type": "code",
   "execution_count": 7,
   "metadata": {
    "colab": {
     "base_uri": "https://localhost:8080/",
     "height": 294
    },
    "colab_type": "code",
    "id": "7UcvzHGS32Sd",
    "outputId": "bb9bc1e4-22f9-4b3f-ae46-ff7d1e4020b3"
   },
   "outputs": [],
   "source": [
    "X_train, X_test, y_train, y_test = pd.read_pickle('data/ner_kor_dataset.pkl')"
   ]
  },
  {
   "cell_type": "code",
   "execution_count": 8,
   "metadata": {
    "colab": {},
    "colab_type": "code",
    "id": "JsyEDe5C32Si"
   },
   "outputs": [
    {
     "name": "stdout",
     "output_type": "stream",
     "text": [
      "훈련 샘플 문장의 크기 : (14964, 125)\n",
      "훈련 샘플 레이블의 크기 : (14964, 125, 22)\n",
      "테스트 샘플 문장의 크기 : (3742, 125)\n",
      "테스트 샘플 레이블의 크기 : (3742, 125, 22)\n"
     ]
    }
   ],
   "source": [
    "print('훈련 샘플 문장의 크기 : {}'.format(X_train.shape))\n",
    "print('훈련 샘플 레이블의 크기 : {}'.format(y_train.shape))\n",
    "print('테스트 샘플 문장의 크기 : {}'.format(X_test.shape))\n",
    "print('테스트 샘플 레이블의 크기 : {}'.format(y_test.shape))"
   ]
  },
  {
   "cell_type": "code",
   "execution_count": 9,
   "metadata": {
    "colab": {},
    "colab_type": "code",
    "id": "xwnJJzBwY923"
   },
   "outputs": [],
   "source": [
    "vocab_size = 41640\n",
    "tag_size = 22\n",
    "max_len = 125"
   ]
  },
  {
   "cell_type": "markdown",
   "metadata": {
    "colab_type": "text",
    "id": "MQwJ6mf432Sl"
   },
   "source": [
    "---"
   ]
  },
  {
   "cell_type": "code",
   "execution_count": 10,
   "metadata": {
    "colab": {},
    "colab_type": "code",
    "id": "DNQqK6Rw32Sl"
   },
   "outputs": [],
   "source": [
    "from tf2crf import CRF\n",
    "from keras.models import Sequential\n",
    "from keras.layers import LSTM, Embedding, Dense, TimeDistributed, Dropout, Bidirectional\n",
    "# from keras_contrib.layers import CRF"
   ]
  },
  {
   "cell_type": "code",
   "execution_count": 11,
   "metadata": {
    "colab": {},
    "colab_type": "code",
    "id": "fcZwq17S32Sn"
   },
   "outputs": [],
   "source": [
    "model = Sequential()\n",
    "model.add(Embedding(input_dim=vocab_size, output_dim=20, input_length=max_len, mask_zero=True))\n",
    "model.add(Bidirectional(LSTM(units=50, return_sequences=True, recurrent_dropout=0.1)))\n",
    "model.add(TimeDistributed(Dense(50, activation=\"relu\")))  #각 스텝마다 cost (오류)를 계산해서 하위 스텝으로 오류를 전파\n",
    "crf = CRF(tag_size)\n",
    "model.add(crf)"
   ]
  },
  {
   "cell_type": "code",
   "execution_count": 12,
   "metadata": {
    "colab": {},
    "colab_type": "code",
    "id": "X2ryx1O76GwK"
   },
   "outputs": [
    {
     "name": "stdout",
     "output_type": "stream",
     "text": [
      "Epoch 1/10\n",
      "421/421 [==============================] - 97s 231ms/step - loss: 6.3119 - accuracy: 0.8004 - val_loss: 15.5312 - val_accuracy: 0.8371\n",
      "Epoch 2/10\n",
      "421/421 [==============================] - 95s 226ms/step - loss: 3.6692 - accuracy: 0.8438 - val_loss: 12.2606 - val_accuracy: 0.8512\n",
      "Epoch 3/10\n",
      "421/421 [==============================] - 94s 224ms/step - loss: 2.8524 - accuracy: 0.8557 - val_loss: 9.5545 - val_accuracy: 0.8616\n",
      "Epoch 4/10\n",
      "421/421 [==============================] - 94s 224ms/step - loss: 2.2908 - accuracy: 0.8726 - val_loss: 7.6769 - val_accuracy: 0.8745\n",
      "Epoch 5/10\n",
      "421/421 [==============================] - 95s 226ms/step - loss: 1.9310 - accuracy: 0.8874 - val_loss: 6.7923 - val_accuracy: 0.8831\n",
      "Epoch 6/10\n",
      "421/421 [==============================] - 94s 224ms/step - loss: 1.6857 - accuracy: 0.8971 - val_loss: 6.5672 - val_accuracy: 0.8883\n",
      "Epoch 7/10\n",
      "421/421 [==============================] - 95s 225ms/step - loss: 1.5099 - accuracy: 0.9053 - val_loss: 6.7826 - val_accuracy: 0.8936\n",
      "Epoch 8/10\n",
      "421/421 [==============================] - 95s 226ms/step - loss: 1.3649 - accuracy: 0.9130 - val_loss: 7.4536 - val_accuracy: 0.8963\n",
      "Epoch 9/10\n",
      "421/421 [==============================] - 95s 226ms/step - loss: 1.2528 - accuracy: 0.9193 - val_loss: 8.4084 - val_accuracy: 0.9017\n",
      "Epoch 10/10\n",
      "421/421 [==============================] - 94s 224ms/step - loss: 1.1592 - accuracy: 0.9248 - val_loss: 9.4864 - val_accuracy: 0.8977\n"
     ]
    }
   ],
   "source": [
    "model.compile(optimizer=\"rmsprop\", loss=crf.loss\n",
    "              , metrics=[crf.accuracy])\n",
    "history = model.fit(X_train, y_train, batch_size=32, epochs=10, validation_split=0.1, verbose=1)"
   ]
  },
  {
   "cell_type": "code",
   "execution_count": 13,
   "metadata": {
    "colab": {},
    "colab_type": "code",
    "id": "lzdDjrqi8LLC"
   },
   "outputs": [
    {
     "name": "stdout",
     "output_type": "stream",
     "text": [
      "117/117 [==============================] - 12s 103ms/step - loss: 8.6431 - accuracy: 0.9005\n",
      "\n",
      " 테스트 정확도: 0.9005\n"
     ]
    }
   ],
   "source": [
    "print(\"\\n 테스트 정확도: %.4f\" % (model.evaluate(X_test, y_test)[1]))"
   ]
  },
  {
   "cell_type": "code",
   "execution_count": null,
   "metadata": {},
   "outputs": [],
   "source": []
  }
 ],
 "metadata": {
  "accelerator": "GPU",
  "colab": {
   "collapsed_sections": [],
   "name": "ner_bi_lstm_crf2.ipynb",
   "provenance": []
  },
  "kernelspec": {
   "display_name": "env_tf",
   "language": "python",
   "name": "env_tf"
  },
  "language_info": {
   "codemirror_mode": {
    "name": "ipython",
    "version": 3
   },
   "file_extension": ".py",
   "mimetype": "text/x-python",
   "name": "python",
   "nbconvert_exporter": "python",
   "pygments_lexer": "ipython3",
   "version": "3.8.3"
  }
 },
 "nbformat": 4,
 "nbformat_minor": 4
}

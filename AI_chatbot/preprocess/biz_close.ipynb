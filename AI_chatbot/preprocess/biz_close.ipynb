{
 "cells": [
  {
   "cell_type": "code",
   "execution_count": 41,
   "metadata": {},
   "outputs": [],
   "source": [
    "import sys\n",
    "import requests\n",
    "import xml.etree.ElementTree as ElementTree\n",
    "import lxml.html"
   ]
  },
  {
   "cell_type": "code",
   "execution_count": 42,
   "metadata": {},
   "outputs": [],
   "source": [
    "biz_name ='황소곱창'\n",
    "biz_addr = '경기 부천시 상동로'"
   ]
  },
  {
   "cell_type": "code",
   "execution_count": 43,
   "metadata": {},
   "outputs": [],
   "source": [
    "def get_bizno(biz_name, biz_addr):\n",
    "    bizno =''\n",
    "    query = f'https://www.bizno.net/?query={biz_name}'\n",
    "    response = requests.get(query)\n",
    "    root = lxml.html.fromstring(response.content.decode('utf-8'))\n",
    "    for li in root.xpath('/html/body/section[2]/div/div/div[1]/div'):\n",
    "        p = li.xpath('.//p')[0]\n",
    "        addr = p.text.strip()\n",
    "        if biz_addr in addr:\n",
    "            a = li.xpath('div/div/div/a')[0]\n",
    "            url = a.get('href')\n",
    "            bizno = url.split('/')[2]\n",
    "            break\n",
    "    return bizno"
   ]
  },
  {
   "cell_type": "code",
   "execution_count": 44,
   "metadata": {},
   "outputs": [],
   "source": [
    "bizno = get_bizno(biz_name, biz_addr)"
   ]
  },
  {
   "cell_type": "code",
   "execution_count": 45,
   "metadata": {},
   "outputs": [],
   "source": [
    "PostUrl = \"https://teht.hometax.go.kr/wqAction.do?actionId=ATTABZAA001R08&screenId=UTEABAAA13&popupYn=false&realScreenId=\"\n",
    "XmlRaw = \"<map id=\\\"ATTABZAA001R08\\\"><pubcUserNo/><mobYn>N</mobYn><inqrTrgtClCd>1</inqrTrgtClCd><txprDscmNo>\\{CRN\\}</txprDscmNo><dongCode>15</dongCode><psbSearch>Y</psbSearch><map id=\\\"userReqInfoVO\\\"/></map>\""
   ]
  },
  {
   "cell_type": "code",
   "execution_count": 46,
   "metadata": {},
   "outputs": [],
   "source": [
    "def close_check(crn):\n",
    "    res = requests.post(PostUrl, data=XmlRaw.replace(\"\\{CRN\\}\", crn), headers={'Content-Type': 'text/xml'})\n",
    "    xml = ElementTree.fromstring(res.text).findtext(\"trtCntn\")\n",
    "    result = crn + \"\\t\" + xml.replace(\"\\n\",\"\").replace(\"\\t\", \" \") + \"\\n\"\n",
    "    return result"
   ]
  },
  {
   "cell_type": "code",
   "execution_count": 47,
   "metadata": {},
   "outputs": [
    {
     "data": {
      "text/plain": [
       "'1302653996\\t부가가치세 일반과세자 입니다.\\n'"
      ]
     },
     "execution_count": 47,
     "metadata": {},
     "output_type": "execute_result"
    }
   ],
   "source": [
    "close_check(bizno)"
   ]
  }
 ],
 "metadata": {
  "kernelspec": {
   "display_name": "Python 3",
   "language": "python",
   "name": "python3"
  },
  "language_info": {
   "codemirror_mode": {
    "name": "ipython",
    "version": 3
   },
   "file_extension": ".py",
   "mimetype": "text/x-python",
   "name": "python",
   "nbconvert_exporter": "python",
   "pygments_lexer": "ipython3",
   "version": "3.7.6"
  }
 },
 "nbformat": 4,
 "nbformat_minor": 4
}
